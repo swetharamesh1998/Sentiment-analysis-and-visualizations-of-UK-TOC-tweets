{
 "cells": [
  {
   "cell_type": "code",
   "execution_count": 2,
   "metadata": {},
   "outputs": [
    {
     "name": "stdout",
     "output_type": "stream",
     "text": [
      "Collecting git+https://github.com/tweepy/tweepy.git\n",
      "  Cloning https://github.com/tweepy/tweepy.git to c:\\users\\sweth\\appdata\\local\\temp\\pip-req-build-0z90rcnu\n",
      "Requirement already satisfied (use --upgrade to upgrade): tweepy==4.14.0 from git+https://github.com/tweepy/tweepy.git in c:\\users\\sweth\\anaconda3\\lib\\site-packages\n",
      "Requirement already satisfied: oauthlib<4,>=3.2.0 in c:\\users\\sweth\\anaconda3\\lib\\site-packages (from tweepy==4.14.0) (3.2.2)\n",
      "Requirement already satisfied: requests<3,>=2.27.0 in c:\\users\\sweth\\anaconda3\\lib\\site-packages (from tweepy==4.14.0) (2.31.0)\n",
      "Requirement already satisfied: requests-oauthlib<2,>=1.2.0 in c:\\users\\sweth\\anaconda3\\lib\\site-packages (from tweepy==4.14.0) (1.3.1)\n",
      "Requirement already satisfied: certifi>=2017.4.17 in c:\\users\\sweth\\anaconda3\\lib\\site-packages (from requests<3,>=2.27.0->tweepy==4.14.0) (2019.11.28)\n",
      "Requirement already satisfied: charset-normalizer<4,>=2 in c:\\users\\sweth\\anaconda3\\lib\\site-packages (from requests<3,>=2.27.0->tweepy==4.14.0) (3.3.2)\n",
      "Requirement already satisfied: urllib3<3,>=1.21.1 in c:\\users\\sweth\\anaconda3\\lib\\site-packages (from requests<3,>=2.27.0->tweepy==4.14.0) (1.25.8)\n",
      "Requirement already satisfied: idna<4,>=2.5 in c:\\users\\sweth\\anaconda3\\lib\\site-packages (from requests<3,>=2.27.0->tweepy==4.14.0) (2.8)\n",
      "Building wheels for collected packages: tweepy\n",
      "  Building wheel for tweepy (setup.py): started\n",
      "  Building wheel for tweepy (setup.py): finished with status 'done'\n",
      "  Created wheel for tweepy: filename=tweepy-4.14.0-py3-none-any.whl size=99888 sha256=a4b01aa1563e9dd1296ec8acccdcdcfa39eaeb82097e440eae7a517868d3d3ca\n",
      "  Stored in directory: C:\\Users\\sweth\\AppData\\Local\\Temp\\pip-ephem-wheel-cache-zuou9skn\\wheels\\b4\\a5\\5a\\5074abdb9f4bd5bd0e22631a63fc41ae2fa71ad83780ea18d1\n",
      "Successfully built tweepy\n",
      "Note: you may need to restart the kernel to use updated packages.\n"
     ]
    },
    {
     "name": "stderr",
     "output_type": "stream",
     "text": [
      "  Running command git clone -q https://github.com/tweepy/tweepy.git 'C:\\Users\\sweth\\AppData\\Local\\Temp\\pip-req-build-0z90rcnu'\n"
     ]
    }
   ],
   "source": [
    "pip install git+https://github.com/tweepy/tweepy.git"
   ]
  },
  {
   "cell_type": "code",
   "execution_count": 10,
   "metadata": {},
   "outputs": [
    {
     "name": "stdout",
     "output_type": "stream",
     "text": [
      "Status Failed On, 403 Forbidden\n",
      "When authenticating requests to the Twitter API v2 endpoints, you must use keys and tokens from a Twitter developer App that is attached to a Project. You can create a project via the developer portal.\n"
     ]
    }
   ],
   "source": [
    "import tweepy\n",
    "import pandas as pd\n",
    "\n",
    "consumer_key = \"fSRa7scwLJFmPDVZ34fcTH3Or\" #Your API/Consumer key \n",
    "consumer_secret = \"HceHlKD9nT4fHDzmbsg5xXckiclpzNoblLsNekXmgNMaK7tCJA\" #Your API/Consumer Secret Key\n",
    "access_token = \"1765863035430649856-buAPMcO3xyU1EX1oNTJ33QDbnUjq8G\"    #Your Access token key\n",
    "access_token_secret = \"VQjXPuJDWf4Vel27u4MjrC3dOgeeB15MzQqfPaSb6bkVS\" #Your Access token Secret key\n",
    "bearer_token= \"AAAAAAAAAAAAAAAAAAAAAMDIsgEAAAAAb9nHsHzSBwrmWFEMT3prgHqCoHQ%3DIwsfUWeUKLn397jDZEwlBSDr8kuWjQstBgN7bXzgY8wo6fMpqv\"\n",
    "#Pass in our twitter API authentication key\n",
    "auth = tweepy.OAuth1UserHandler(\n",
    "    consumer_key, consumer_secret,\n",
    "    access_token, access_token_secret\n",
    ")\n",
    "\n",
    "#Instantiate the tweepy API\n",
    "client = tweepy.Client(bearer_token,consumer_key,consumer_secret,access_token,access_token_secret, wait_on_rate_limit=True)\n",
    "\n",
    "\n",
    "search_query = \"'ref''UK Rail'-filter:retweets AND -filter:replies AND -filter:links\"\n",
    "no_of_tweets = 100\n",
    "\n",
    "try:\n",
    "    #The number of tweets we want to retrieved from the search\n",
    "    tweets = client.search_all_tweets(query=search_query)\n",
    "    \n",
    "    #Pulling Some attributes from the tweet\n",
    "    attributes_container = [[tweet.user.name, tweet.created_at, tweet.favorite_count, tweet.source, tweet.full_text] for tweet in tweets]\n",
    "\n",
    "    #Creation of column list to rename the columns in the dataframe\n",
    "    columns = [\"User\", \"Date Created\", \"Number of Likes\", \"Source of Tweet\", \"Tweet\"]\n",
    "    \n",
    "    #Creation of Dataframe\n",
    "    tweets_df = pd.DataFrame(attributes_container, columns=columns)\n",
    "except BaseException as e:\n",
    "    print('Status Failed On,',str(e))"
   ]
  },
  {
   "cell_type": "code",
   "execution_count": 12,
   "metadata": {},
   "outputs": [
    {
     "name": "stdout",
     "output_type": "stream",
     "text": [
      "Requirement already up-to-date: tweepy in c:\\users\\sweth\\anaconda3\\lib\\site-packages (4.14.0)\n",
      "Requirement already satisfied, skipping upgrade: requests<3,>=2.27.0 in c:\\users\\sweth\\anaconda3\\lib\\site-packages (from tweepy) (2.31.0)\n",
      "Requirement already satisfied, skipping upgrade: oauthlib<4,>=3.2.0 in c:\\users\\sweth\\anaconda3\\lib\\site-packages (from tweepy) (3.2.2)\n",
      "Requirement already satisfied, skipping upgrade: requests-oauthlib<2,>=1.2.0 in c:\\users\\sweth\\anaconda3\\lib\\site-packages (from tweepy) (1.3.1)\n",
      "Requirement already satisfied, skipping upgrade: urllib3<3,>=1.21.1 in c:\\users\\sweth\\anaconda3\\lib\\site-packages (from requests<3,>=2.27.0->tweepy) (1.25.8)\n",
      "Requirement already satisfied, skipping upgrade: certifi>=2017.4.17 in c:\\users\\sweth\\anaconda3\\lib\\site-packages (from requests<3,>=2.27.0->tweepy) (2019.11.28)\n",
      "Requirement already satisfied, skipping upgrade: idna<4,>=2.5 in c:\\users\\sweth\\anaconda3\\lib\\site-packages (from requests<3,>=2.27.0->tweepy) (2.8)\n",
      "Requirement already satisfied, skipping upgrade: charset-normalizer<4,>=2 in c:\\users\\sweth\\anaconda3\\lib\\site-packages (from requests<3,>=2.27.0->tweepy) (3.3.2)\n",
      "Note: you may need to restart the kernel to use updated packages.\n"
     ]
    }
   ],
   "source": [
    "pip install --upgrade tweepy"
   ]
  },
  {
   "cell_type": "code",
   "execution_count": 2,
   "metadata": {},
   "outputs": [
    {
     "ename": "TypeError",
     "evalue": "__init__() got an unexpected keyword argument 'api_version'",
     "output_type": "error",
     "traceback": [
      "\u001b[1;31m---------------------------------------------------------------------------\u001b[0m",
      "\u001b[1;31mTypeError\u001b[0m                                 Traceback (most recent call last)",
      "\u001b[1;32m<ipython-input-2-c1b0f471b881>\u001b[0m in \u001b[0;36m<module>\u001b[1;34m\u001b[0m\n\u001b[0;32m     11\u001b[0m \u001b[0mauth\u001b[0m \u001b[1;33m=\u001b[0m \u001b[0mtweepy\u001b[0m\u001b[1;33m.\u001b[0m\u001b[0mOAuthHandler\u001b[0m\u001b[1;33m(\u001b[0m\u001b[0mconsumer_key\u001b[0m\u001b[1;33m,\u001b[0m \u001b[0mconsumer_secret\u001b[0m\u001b[1;33m)\u001b[0m\u001b[1;33m\u001b[0m\u001b[1;33m\u001b[0m\u001b[0m\n\u001b[0;32m     12\u001b[0m \u001b[0mauth\u001b[0m\u001b[1;33m.\u001b[0m\u001b[0mset_access_token\u001b[0m\u001b[1;33m(\u001b[0m\u001b[0maccess_token\u001b[0m\u001b[1;33m,\u001b[0m \u001b[0maccess_token_secret\u001b[0m\u001b[1;33m)\u001b[0m\u001b[1;33m\u001b[0m\u001b[1;33m\u001b[0m\u001b[0m\n\u001b[1;32m---> 13\u001b[1;33m \u001b[0mapi\u001b[0m \u001b[1;33m=\u001b[0m \u001b[0mtweepy\u001b[0m\u001b[1;33m.\u001b[0m\u001b[0mAPI\u001b[0m\u001b[1;33m(\u001b[0m\u001b[0mauth\u001b[0m\u001b[1;33m,\u001b[0m \u001b[0mwait_on_rate_limit\u001b[0m\u001b[1;33m=\u001b[0m\u001b[1;32mTrue\u001b[0m\u001b[1;33m,\u001b[0m \u001b[0mapi_version\u001b[0m\u001b[1;33m=\u001b[0m\u001b[1;34m\"2\"\u001b[0m\u001b[1;33m)\u001b[0m\u001b[1;33m\u001b[0m\u001b[1;33m\u001b[0m\u001b[0m\n\u001b[0m\u001b[0;32m     14\u001b[0m \u001b[1;33m\u001b[0m\u001b[0m\n\u001b[0;32m     15\u001b[0m \u001b[1;31m# Define the search query\u001b[0m\u001b[1;33m\u001b[0m\u001b[1;33m\u001b[0m\u001b[1;33m\u001b[0m\u001b[0m\n",
      "\u001b[1;31mTypeError\u001b[0m: __init__() got an unexpected keyword argument 'api_version'"
     ]
    }
   ],
   "source": [
    "import tweepy\n",
    "import json\n",
    "\n",
    "# Replace the placeholders with your Twitter API credentials\n",
    "consumer_key = \"fSRa7scwLJFmPDVZ34fcTH3Or\" #Your API/Consumer key \n",
    "consumer_secret = \"HceHlKD9nT4fHDzmbsg5xXckiclpzNoblLsNekXmgNMaK7tCJA\" #Your API/Consumer Secret Key\n",
    "access_token = \"1765863035430649856-20N050od69RxSidFRnSSeWqAgNN6yE\"    #Your Access token key\n",
    "access_token_secret = \"bVG3wyGU0ZzHLcG5RJiIa9gevfcgU2jIQX8dYhJCn6I4g\"\n",
    "\n",
    "# Authenticate with Twitter API v2\n",
    "auth = tweepy.OAuthHandler(consumer_key, consumer_secret)\n",
    "auth.set_access_token(access_token, access_token_secret)\n",
    "api = tweepy.API(auth, wait_on_rate_limit=True, api_version=\"2\")\n",
    "\n",
    "# Define the search query\n",
    "search_query = \"UK Rail\"\n",
    "\n",
    "# Specify the number of tweets you want to retrieve\n",
    "tweet_count = 10\n",
    "\n",
    "# Retrieve tweets\n",
    "tweets = api.search_all_tweets(query=search_query, max_results=tweet_count)\n",
    "\n",
    "# Process and print the tweets\n",
    "for tweet in tweets:\n",
    "    tweet_data = {\n",
    "        \"user\": tweet.user.screen_name,\n",
    "        \"text\": tweet.text,\n",
    "        \"created_at\": str(tweet.created_at),\n",
    "    }\n",
    "    print(json.dumps(tweet_data, indent=2))\n",
    "    print(\"=\" * 50)\n"
   ]
  },
  {
   "cell_type": "code",
   "execution_count": 3,
   "metadata": {},
   "outputs": [
    {
     "ename": "TypeError",
     "evalue": "request() missing 1 required positional argument: 'endpoint'",
     "output_type": "error",
     "traceback": [
      "\u001b[1;31m---------------------------------------------------------------------------\u001b[0m",
      "\u001b[1;31mTypeError\u001b[0m                                 Traceback (most recent call last)",
      "\u001b[1;32m<ipython-input-3-59d7dc317c2a>\u001b[0m in \u001b[0;36m<module>\u001b[1;34m\u001b[0m\n\u001b[0;32m     20\u001b[0m \u001b[1;33m\u001b[0m\u001b[0m\n\u001b[0;32m     21\u001b[0m \u001b[1;31m# Retrieve tweets using Twitter API v2\u001b[0m\u001b[1;33m\u001b[0m\u001b[1;33m\u001b[0m\u001b[1;33m\u001b[0m\u001b[0m\n\u001b[1;32m---> 22\u001b[1;33m \u001b[0mtweets\u001b[0m \u001b[1;33m=\u001b[0m \u001b[0mapi\u001b[0m\u001b[1;33m.\u001b[0m\u001b[0mrequest\u001b[0m\u001b[1;33m(\u001b[0m\u001b[1;34m\"tweets/search/recent\"\u001b[0m\u001b[1;33m,\u001b[0m \u001b[0mparams\u001b[0m\u001b[1;33m=\u001b[0m\u001b[1;33m{\u001b[0m\u001b[1;34m\"query\"\u001b[0m\u001b[1;33m:\u001b[0m \u001b[0msearch_query\u001b[0m\u001b[1;33m,\u001b[0m \u001b[1;34m\"max_results\"\u001b[0m\u001b[1;33m:\u001b[0m \u001b[0mtweet_count\u001b[0m\u001b[1;33m}\u001b[0m\u001b[1;33m)\u001b[0m\u001b[1;33m\u001b[0m\u001b[1;33m\u001b[0m\u001b[0m\n\u001b[0m\u001b[0;32m     23\u001b[0m \u001b[1;33m\u001b[0m\u001b[0m\n\u001b[0;32m     24\u001b[0m \u001b[1;31m# Process and print the tweets\u001b[0m\u001b[1;33m\u001b[0m\u001b[1;33m\u001b[0m\u001b[1;33m\u001b[0m\u001b[0m\n",
      "\u001b[1;31mTypeError\u001b[0m: request() missing 1 required positional argument: 'endpoint'"
     ]
    }
   ],
   "source": [
    "import tweepy\n",
    "import json\n",
    "\n",
    "# Replace the placeholders with your Twitter API credentials\n",
    "consumer_key = \"fSRa7scwLJFmPDVZ34fcTH3Or\" #Your API/Consumer key \n",
    "consumer_secret = \"HceHlKD9nT4fHDzmbsg5xXckiclpzNoblLsNekXmgNMaK7tCJA\" #Your API/Consumer Secret Key\n",
    "access_token = \"1765863035430649856-20N050od69RxSidFRnSSeWqAgNN6yE\"    #Your Access token key\n",
    "access_token_secret = \"bVG3wyGU0ZzHLcG5RJiIa9gevfcgU2jIQX8dYhJCn6I4g\"\n",
    "\n",
    "# Authenticate with Twitter API\n",
    "auth = tweepy.OAuthHandler(consumer_key, consumer_secret)\n",
    "auth.set_access_token(access_token, access_token_secret)\n",
    "api = tweepy.API(auth, wait_on_rate_limit=True)\n",
    "\n",
    "# Define the search query\n",
    "search_query = \"UK Rail\"\n",
    "\n",
    "# Specify the number of tweets you want to retrieve\n",
    "tweet_count = 10\n",
    "\n",
    "# Retrieve tweets using Twitter API v2\n",
    "tweets = api.request(\"tweets/search/recent\", params={\"query\": search_query, \"max_results\": tweet_count})\n",
    "\n",
    "# Process and print the tweets\n",
    "for tweet in tweets:\n",
    "    tweet_data = {\n",
    "        \"user\": tweet.user.screen_name,\n",
    "        \"text\": tweet.text,\n",
    "        \"created_at\": str(tweet.created_at),\n",
    "    }\n",
    "    print(json.dumps(tweet_data, indent=2))\n",
    "    print(\"=\" * 50)\n"
   ]
  },
  {
   "cell_type": "code",
   "execution_count": 4,
   "metadata": {},
   "outputs": [
    {
     "ename": "AttributeError",
     "evalue": "'API' object has no attribute 'search_recent'",
     "output_type": "error",
     "traceback": [
      "\u001b[1;31m---------------------------------------------------------------------------\u001b[0m",
      "\u001b[1;31mAttributeError\u001b[0m                            Traceback (most recent call last)",
      "\u001b[1;32m<ipython-input-4-663d5d8e6bfe>\u001b[0m in \u001b[0;36m<module>\u001b[1;34m\u001b[0m\n\u001b[0;32m     20\u001b[0m \u001b[1;33m\u001b[0m\u001b[0m\n\u001b[0;32m     21\u001b[0m \u001b[1;31m# Retrieve tweets using Twitter API v2\u001b[0m\u001b[1;33m\u001b[0m\u001b[1;33m\u001b[0m\u001b[1;33m\u001b[0m\u001b[0m\n\u001b[1;32m---> 22\u001b[1;33m \u001b[0mtweets\u001b[0m \u001b[1;33m=\u001b[0m \u001b[0mapi\u001b[0m\u001b[1;33m.\u001b[0m\u001b[0msearch_recent\u001b[0m\u001b[1;33m(\u001b[0m\u001b[0mquery\u001b[0m\u001b[1;33m=\u001b[0m\u001b[0msearch_query\u001b[0m\u001b[1;33m,\u001b[0m \u001b[0mmax_results\u001b[0m\u001b[1;33m=\u001b[0m\u001b[0mtweet_count\u001b[0m\u001b[1;33m)\u001b[0m\u001b[1;33m\u001b[0m\u001b[1;33m\u001b[0m\u001b[0m\n\u001b[0m\u001b[0;32m     23\u001b[0m \u001b[1;33m\u001b[0m\u001b[0m\n\u001b[0;32m     24\u001b[0m \u001b[1;31m# Process and print the tweets\u001b[0m\u001b[1;33m\u001b[0m\u001b[1;33m\u001b[0m\u001b[1;33m\u001b[0m\u001b[0m\n",
      "\u001b[1;31mAttributeError\u001b[0m: 'API' object has no attribute 'search_recent'"
     ]
    }
   ],
   "source": [
    "import tweepy\n",
    "import json\n",
    "\n",
    "# Replace the placeholders with your Twitter API credentials\n",
    "consumer_key = \"fSRa7scwLJFmPDVZ34fcTH3Or\" #Your API/Consumer key \n",
    "consumer_secret = \"HceHlKD9nT4fHDzmbsg5xXckiclpzNoblLsNekXmgNMaK7tCJA\" #Your API/Consumer Secret Key\n",
    "access_token = \"1765863035430649856-20N050od69RxSidFRnSSeWqAgNN6yE\"    #Your Access token key\n",
    "access_token_secret = \"bVG3wyGU0ZzHLcG5RJiIa9gevfcgU2jIQX8dYhJCn6I4g\"\n",
    "\n",
    "# Authenticate with Twitter API\n",
    "auth = tweepy.OAuthHandler(consumer_key, consumer_secret)\n",
    "auth.set_access_token(access_token, access_token_secret)\n",
    "api = tweepy.API(auth, wait_on_rate_limit=True)\n",
    "\n",
    "# Define the search query\n",
    "search_query = \"UK Rail\"\n",
    "\n",
    "# Specify the number of tweets you want to retrieve\n",
    "tweet_count = 10\n",
    "\n",
    "# Retrieve tweets using Twitter API v2\n",
    "tweets = api.search_recent(query=search_query, max_results=tweet_count)\n",
    "\n",
    "# Process and print the tweets\n",
    "for tweet in tweets:\n",
    "    tweet_data = {\n",
    "        \"user\": tweet.user.screen_name,\n",
    "        \"text\": tweet.text,\n",
    "        \"created_at\": str(tweet.created_at),\n",
    "    }\n",
    "    print(json.dumps(tweet_data, indent=2))\n",
    "    print(\"=\" * 50)\n"
   ]
  },
  {
   "cell_type": "code",
   "execution_count": 5,
   "metadata": {},
   "outputs": [
    {
     "ename": "Forbidden",
     "evalue": "403 Forbidden\nWhen authenticating requests to the Twitter API v2 endpoints, you must use keys and tokens from a Twitter developer App that is attached to a Project. You can create a project via the developer portal.",
     "output_type": "error",
     "traceback": [
      "\u001b[1;31m---------------------------------------------------------------------------\u001b[0m",
      "\u001b[1;31mForbidden\u001b[0m                                 Traceback (most recent call last)",
      "\u001b[1;32m<ipython-input-5-7eb5914076f8>\u001b[0m in \u001b[0;36m<module>\u001b[1;34m\u001b[0m\n\u001b[0;32m     28\u001b[0m \u001b[1;33m\u001b[0m\u001b[0m\n\u001b[0;32m     29\u001b[0m \u001b[1;31m# Extract tweets\u001b[0m\u001b[1;33m\u001b[0m\u001b[1;33m\u001b[0m\u001b[1;33m\u001b[0m\u001b[0m\n\u001b[1;32m---> 30\u001b[1;33m \u001b[0mextracted_tweets\u001b[0m \u001b[1;33m=\u001b[0m \u001b[0mget_tweets\u001b[0m\u001b[1;33m(\u001b[0m\u001b[0msearch_terms\u001b[0m\u001b[1;33m)\u001b[0m\u001b[1;33m\u001b[0m\u001b[1;33m\u001b[0m\u001b[0m\n\u001b[0m\u001b[0;32m     31\u001b[0m \u001b[1;33m\u001b[0m\u001b[0m\n\u001b[0;32m     32\u001b[0m \u001b[1;31m# Print extracted tweets (modify this section for further processing)\u001b[0m\u001b[1;33m\u001b[0m\u001b[1;33m\u001b[0m\u001b[1;33m\u001b[0m\u001b[0m\n",
      "\u001b[1;32m<ipython-input-5-7eb5914076f8>\u001b[0m in \u001b[0;36mget_tweets\u001b[1;34m(search_terms)\u001b[0m\n\u001b[0;32m     15\u001b[0m   \u001b[1;32mfor\u001b[0m \u001b[0mterm\u001b[0m \u001b[1;32min\u001b[0m \u001b[0msearch_terms\u001b[0m\u001b[1;33m:\u001b[0m\u001b[1;33m\u001b[0m\u001b[1;33m\u001b[0m\u001b[0m\n\u001b[0;32m     16\u001b[0m     \u001b[1;31m# Use search_tweets method of Client for v2\u001b[0m\u001b[1;33m\u001b[0m\u001b[1;33m\u001b[0m\u001b[1;33m\u001b[0m\u001b[0m\n\u001b[1;32m---> 17\u001b[1;33m     \u001b[0mresponse\u001b[0m \u001b[1;33m=\u001b[0m \u001b[0mclient\u001b[0m\u001b[1;33m.\u001b[0m\u001b[0msearch_all_tweets\u001b[0m\u001b[1;33m(\u001b[0m\u001b[0mquery\u001b[0m\u001b[1;33m=\u001b[0m\u001b[0mterm\u001b[0m\u001b[1;33m,\u001b[0m\u001b[0mmax_results\u001b[0m\u001b[1;33m=\u001b[0m\u001b[1;36m10\u001b[0m\u001b[1;33m)\u001b[0m\u001b[1;33m\u001b[0m\u001b[1;33m\u001b[0m\u001b[0m\n\u001b[0m\u001b[0;32m     18\u001b[0m     \u001b[1;32mfor\u001b[0m \u001b[0mtweet\u001b[0m \u001b[1;32min\u001b[0m \u001b[0mresponse\u001b[0m\u001b[1;33m.\u001b[0m\u001b[0mdata\u001b[0m\u001b[1;33m:\u001b[0m\u001b[1;33m\u001b[0m\u001b[1;33m\u001b[0m\u001b[0m\n\u001b[0;32m     19\u001b[0m       \u001b[1;31m# Extract relevant data from tweet\u001b[0m\u001b[1;33m\u001b[0m\u001b[1;33m\u001b[0m\u001b[1;33m\u001b[0m\u001b[0m\n",
      "\u001b[1;32m~\\anaconda3\\lib\\site-packages\\tweepy\\client.py\u001b[0m in \u001b[0;36msearch_all_tweets\u001b[1;34m(self, query, **params)\u001b[0m\n\u001b[0;32m   1172\u001b[0m                 \u001b[1;34m\"since_id\"\u001b[0m\u001b[1;33m,\u001b[0m \u001b[1;34m\"sort_order\"\u001b[0m\u001b[1;33m,\u001b[0m \u001b[1;34m\"start_time\"\u001b[0m\u001b[1;33m,\u001b[0m \u001b[1;34m\"tweet.fields\"\u001b[0m\u001b[1;33m,\u001b[0m\u001b[1;33m\u001b[0m\u001b[1;33m\u001b[0m\u001b[0m\n\u001b[0;32m   1173\u001b[0m                 \u001b[1;34m\"until_id\"\u001b[0m\u001b[1;33m,\u001b[0m \u001b[1;34m\"user.fields\"\u001b[0m\u001b[1;33m\u001b[0m\u001b[1;33m\u001b[0m\u001b[0m\n\u001b[1;32m-> 1174\u001b[1;33m             ), data_type=Tweet\n\u001b[0m\u001b[0;32m   1175\u001b[0m         )\n\u001b[0;32m   1176\u001b[0m \u001b[1;33m\u001b[0m\u001b[0m\n",
      "\u001b[1;32m~\\anaconda3\\lib\\site-packages\\tweepy\\client.py\u001b[0m in \u001b[0;36m_make_request\u001b[1;34m(self, method, route, params, endpoint_parameters, json, data_type, user_auth)\u001b[0m\n\u001b[0;32m    128\u001b[0m \u001b[1;33m\u001b[0m\u001b[0m\n\u001b[0;32m    129\u001b[0m         response = self.request(method, route, params=request_params,\n\u001b[1;32m--> 130\u001b[1;33m                                 json=json, user_auth=user_auth)\n\u001b[0m\u001b[0;32m    131\u001b[0m \u001b[1;33m\u001b[0m\u001b[0m\n\u001b[0;32m    132\u001b[0m         \u001b[1;32mif\u001b[0m \u001b[0mself\u001b[0m\u001b[1;33m.\u001b[0m\u001b[0mreturn_type\u001b[0m \u001b[1;32mis\u001b[0m \u001b[0mrequests\u001b[0m\u001b[1;33m.\u001b[0m\u001b[0mResponse\u001b[0m\u001b[1;33m:\u001b[0m\u001b[1;33m\u001b[0m\u001b[1;33m\u001b[0m\u001b[0m\n",
      "\u001b[1;32m~\\anaconda3\\lib\\site-packages\\tweepy\\client.py\u001b[0m in \u001b[0;36mrequest\u001b[1;34m(self, method, route, params, json, user_auth)\u001b[0m\n\u001b[0;32m     98\u001b[0m                 \u001b[1;32mraise\u001b[0m \u001b[0mUnauthorized\u001b[0m\u001b[1;33m(\u001b[0m\u001b[0mresponse\u001b[0m\u001b[1;33m)\u001b[0m\u001b[1;33m\u001b[0m\u001b[1;33m\u001b[0m\u001b[0m\n\u001b[0;32m     99\u001b[0m             \u001b[1;32mif\u001b[0m \u001b[0mresponse\u001b[0m\u001b[1;33m.\u001b[0m\u001b[0mstatus_code\u001b[0m \u001b[1;33m==\u001b[0m \u001b[1;36m403\u001b[0m\u001b[1;33m:\u001b[0m\u001b[1;33m\u001b[0m\u001b[1;33m\u001b[0m\u001b[0m\n\u001b[1;32m--> 100\u001b[1;33m                 \u001b[1;32mraise\u001b[0m \u001b[0mForbidden\u001b[0m\u001b[1;33m(\u001b[0m\u001b[0mresponse\u001b[0m\u001b[1;33m)\u001b[0m\u001b[1;33m\u001b[0m\u001b[1;33m\u001b[0m\u001b[0m\n\u001b[0m\u001b[0;32m    101\u001b[0m             \u001b[1;32mif\u001b[0m \u001b[0mresponse\u001b[0m\u001b[1;33m.\u001b[0m\u001b[0mstatus_code\u001b[0m \u001b[1;33m==\u001b[0m \u001b[1;36m404\u001b[0m\u001b[1;33m:\u001b[0m\u001b[1;33m\u001b[0m\u001b[1;33m\u001b[0m\u001b[0m\n\u001b[0;32m    102\u001b[0m                 \u001b[1;32mraise\u001b[0m \u001b[0mNotFound\u001b[0m\u001b[1;33m(\u001b[0m\u001b[0mresponse\u001b[0m\u001b[1;33m)\u001b[0m\u001b[1;33m\u001b[0m\u001b[1;33m\u001b[0m\u001b[0m\n",
      "\u001b[1;31mForbidden\u001b[0m: 403 Forbidden\nWhen authenticating requests to the Twitter API v2 endpoints, you must use keys and tokens from a Twitter developer App that is attached to a Project. You can create a project via the developer portal."
     ]
    }
   ],
   "source": [
    "import tweepy\n",
    "\n",
    "# Replace these with your own Twitter API keys\n",
    "bearer_token = \"AAAAAAAAAAAAAAAAAAAAAMDIsgEAAAAAq%2BNXB4AAIoGQwe4jjnVUF7nF4QM%3DknvuZno7Xarc4AO5YhcMdlkxL9IBJAqA9ZIswRJpc4YWZvXmn1\"\n",
    "\n",
    "# Authenticate to Twitter (v2 uses Bearer Token)\n",
    "client = tweepy.Client(bearer_token=bearer_token)\n",
    "\n",
    "# Search terms for UK rail\n",
    "search_terms = [\"#UKRail\", \"NationalRail\", \"train travel UK\", \"London Underground\"]\n",
    "\n",
    "# Function to extract tweets using Client\n",
    "def get_tweets(search_terms):\n",
    "  tweets = []\n",
    "  for term in search_terms:\n",
    "    # Use search_tweets method of Client for v2\n",
    "    response = client.search_all_tweets(query=term,max_results=10)\n",
    "    for tweet in response.data:\n",
    "      # Extract relevant data from tweet\n",
    "      data = {\n",
    "          \"text\": tweet.text,\n",
    "          \"created_at\": tweet.created_at,\n",
    "          \"author\": tweet.author.username,  # Username instead of screen_name\n",
    "          \"retweets\": tweet.public_metrics[\"retweet_count\"]  # Access metrics through dictionary\n",
    "      }\n",
    "      tweets.append(data)\n",
    "  return tweets\n",
    "\n",
    "# Extract tweets\n",
    "extracted_tweets = get_tweets(search_terms)\n",
    "\n",
    "# Print extracted tweets (modify this section for further processing)\n",
    "for tweet in extracted_tweets:\n",
    "  print(f\"Text: {tweet['text']}\")\n",
    "  print(f\"Created at: {tweet['created_at']}\")\n",
    "  print(f\"Author: {tweet['author']}\")\n",
    "  print(f\"Retweets: {tweet['retweets']}\")\n",
    "  print(\"------\")\n"
   ]
  },
  {
   "cell_type": "code",
   "execution_count": 1,
   "metadata": {},
   "outputs": [
    {
     "ename": "ModuleNotFoundError",
     "evalue": "No module named 'ntscraper'",
     "output_type": "error",
     "traceback": [
      "\u001b[1;31m---------------------------------------------------------------------------\u001b[0m",
      "\u001b[1;31mModuleNotFoundError\u001b[0m                       Traceback (most recent call last)",
      "\u001b[1;32m<ipython-input-1-78a34ad3cbe3>\u001b[0m in \u001b[0;36m<module>\u001b[1;34m\u001b[0m\n\u001b[0;32m      1\u001b[0m \u001b[1;32mimport\u001b[0m \u001b[0mpandas\u001b[0m\u001b[1;33m\u001b[0m\u001b[1;33m\u001b[0m\u001b[0m\n\u001b[1;32m----> 2\u001b[1;33m \u001b[1;32mfrom\u001b[0m \u001b[0mntscraper\u001b[0m \u001b[1;32mimport\u001b[0m \u001b[0mNitter\u001b[0m\u001b[1;33m\u001b[0m\u001b[1;33m\u001b[0m\u001b[0m\n\u001b[0m",
      "\u001b[1;31mModuleNotFoundError\u001b[0m: No module named 'ntscraper'"
     ]
    }
   ],
   "source": [
    "import pandas\n",
    "from ntscraper import Nitter\n"
   ]
  },
  {
   "cell_type": "code",
   "execution_count": 2,
   "metadata": {},
   "outputs": [
    {
     "name": "stdout",
     "output_type": "stream",
     "text": [
      "Collecting ntscraper\n",
      "  Downloading ntscraper-0.3.12-py3-none-any.whl (11 kB)\n",
      "Requirement already satisfied: requests in c:\\users\\sweth\\anaconda3\\lib\\site-packages (from ntscraper) (2.31.0)\n",
      "Requirement already satisfied: lxml in c:\\users\\sweth\\anaconda3\\lib\\site-packages (from ntscraper) (4.5.0)\n",
      "Requirement already satisfied: beautifulsoup4 in c:\\users\\sweth\\anaconda3\\lib\\site-packages (from ntscraper) (4.8.2)\n",
      "Requirement already satisfied: idna<4,>=2.5 in c:\\users\\sweth\\anaconda3\\lib\\site-packages (from requests->ntscraper) (2.8)\n",
      "Requirement already satisfied: charset-normalizer<4,>=2 in c:\\users\\sweth\\anaconda3\\lib\\site-packages (from requests->ntscraper) (3.3.2)\n",
      "Requirement already satisfied: certifi>=2017.4.17 in c:\\users\\sweth\\anaconda3\\lib\\site-packages (from requests->ntscraper) (2019.11.28)\n",
      "Requirement already satisfied: urllib3<3,>=1.21.1 in c:\\users\\sweth\\anaconda3\\lib\\site-packages (from requests->ntscraper) (1.25.8)\n",
      "Requirement already satisfied: soupsieve>=1.2 in c:\\users\\sweth\\anaconda3\\lib\\site-packages (from beautifulsoup4->ntscraper) (1.9.5)\n",
      "Installing collected packages: ntscraper\n",
      "Successfully installed ntscraper-0.3.12\n",
      "Note: you may need to restart the kernel to use updated packages.\n"
     ]
    }
   ],
   "source": [
    "pip install ntscraper"
   ]
  },
  {
   "cell_type": "code",
   "execution_count": 1,
   "metadata": {},
   "outputs": [
    {
     "name": "stdout",
     "output_type": "stream",
     "text": [
      "Error: 403\n",
      "Error: 403\n",
      "Error: 403\n",
      "Error: 403\n",
      "Error: 403\n"
     ]
    }
   ],
   "source": [
    "import requests\n",
    "\n",
    "# Replace with your bearer token\n",
    "bearer_token = \"AAAAAAAAAAAAAAAAAAAAAMDIsgEAAAAAPDHSNc73Jqbvq9jas3OmLnDsPdE%3D8nppMsn0IMAP8hEevj8snXPuCHcc0s9bY60hzvvsx8TAAfpKH0\"\n",
    "\n",
    "# Search terms for UK Rail train companies\n",
    "search_terms = [\"#NationalRail\", \"VirginTrains\", \"LNER\", \"GreaterAnglia\", \"ScotRail\"]\n",
    "\n",
    "# Base URL for search endpoint\n",
    "url = \"https://api.twitter.com/2/tweets/search/recent\"\n",
    "\n",
    "# Function to extract tweets\n",
    "def get_tweets(search_term):\n",
    "  headers = {\"Authorization\": f\"Bearer {bearer_token}\"}\n",
    "  params = {\n",
    "      \"query\": search_term,\n",
    "      \"lang\": \"en\",\n",
    "      \"max_results\": 10  # Adjust this as needed\n",
    "  }\n",
    "\n",
    "  response = requests.get(url, headers=headers, params=params)\n",
    "\n",
    "  if response.status_code == 200:\n",
    "    data = response.json()\n",
    "    return data[\"data\"]  # Extract tweets from response\n",
    "  else:\n",
    "    print(f\"Error: {response.status_code}\")\n",
    "    return []  # Empty list on error\n",
    "\n",
    "# Extract tweets for each search term\n",
    "all_tweets = []\n",
    "for term in search_terms:\n",
    "  tweets = get_tweets(term)\n",
    "  all_tweets.extend(tweets)\n",
    "\n",
    "# Process and store extracted tweets (modify this section)\n",
    "for tweet in all_tweets:\n",
    "  print(f\"Text: {tweet['text']}\")\n",
    "  print(f\"Created at: {tweet['created_at']}\")\n",
    "  print(f\"Author: @{tweet['author']['username']}\")\n",
    "  print(\"------\")\n"
   ]
  },
  {
   "cell_type": "code",
   "execution_count": 1,
   "metadata": {},
   "outputs": [
    {
     "name": "stdout",
     "output_type": "stream",
     "text": [
      "Requirement already satisfied: twint in c:\\users\\sweth\\anaconda3\\lib\\site-packages (2.1.20)\n",
      "Requirement already satisfied: elasticsearch in c:\\users\\sweth\\anaconda3\\lib\\site-packages (from twint) (8.12.1)\n",
      "Requirement already satisfied: googletransx in c:\\users\\sweth\\anaconda3\\lib\\site-packages (from twint) (2.4.2)\n",
      "Requirement already satisfied: aiodns in c:\\users\\sweth\\anaconda3\\lib\\site-packages (from twint) (3.1.1)\n",
      "Requirement already satisfied: cchardet in c:\\users\\sweth\\anaconda3\\lib\\site-packages (from twint) (2.1.7)\n",
      "Requirement already satisfied: beautifulsoup4 in c:\\users\\sweth\\anaconda3\\lib\\site-packages (from twint) (4.8.2)\n",
      "Requirement already satisfied: aiohttp-socks in c:\\users\\sweth\\anaconda3\\lib\\site-packages (from twint) (0.8.4)\n",
      "Requirement already satisfied: pysocks in c:\\users\\sweth\\anaconda3\\lib\\site-packages (from twint) (1.7.1)\n",
      "Requirement already satisfied: schedule in c:\\users\\sweth\\anaconda3\\lib\\site-packages (from twint) (1.2.1)\n",
      "Requirement already satisfied: geopy in c:\\users\\sweth\\anaconda3\\lib\\site-packages (from twint) (2.4.1)\n",
      "Requirement already satisfied: fake-useragent in c:\\users\\sweth\\anaconda3\\lib\\site-packages (from twint) (1.5.0)\n",
      "Requirement already satisfied: aiohttp in c:\\users\\sweth\\anaconda3\\lib\\site-packages (from twint) (3.8.6)\n",
      "Requirement already satisfied: pandas in c:\\users\\sweth\\anaconda3\\lib\\site-packages (from twint) (1.0.1)\n",
      "Requirement already satisfied: elastic-transport<9,>=8 in c:\\users\\sweth\\anaconda3\\lib\\site-packages (from elasticsearch->twint) (8.12.0)\n",
      "Requirement already satisfied: requests in c:\\users\\sweth\\anaconda3\\lib\\site-packages (from googletransx->twint) (2.31.0)\n",
      "Requirement already satisfied: pycares>=4.0.0 in c:\\users\\sweth\\anaconda3\\lib\\site-packages (from aiodns->twint) (4.3.0)\n",
      "Requirement already satisfied: soupsieve>=1.2 in c:\\users\\sweth\\anaconda3\\lib\\site-packages (from beautifulsoup4->twint) (1.9.5)\n",
      "Requirement already satisfied: python-socks[asyncio]<3.0.0,>=2.4.3 in c:\\users\\sweth\\anaconda3\\lib\\site-packages (from aiohttp-socks->twint) (2.4.4)\n",
      "Requirement already satisfied: geographiclib<3,>=1.52 in c:\\users\\sweth\\anaconda3\\lib\\site-packages (from geopy->twint) (2.0)\n",
      "Requirement already satisfied: importlib-resources>=5.0; python_version < \"3.10\" in c:\\users\\sweth\\anaconda3\\lib\\site-packages (from fake-useragent->twint) (5.12.0)\n",
      "Requirement already satisfied: importlib-metadata~=4.0; python_version < \"3.8\" in c:\\users\\sweth\\anaconda3\\lib\\site-packages (from fake-useragent->twint) (4.13.0)\n",
      "Requirement already satisfied: charset-normalizer<4.0,>=2.0 in c:\\users\\sweth\\anaconda3\\lib\\site-packages (from aiohttp->twint) (3.3.2)\n",
      "Requirement already satisfied: frozenlist>=1.1.1 in c:\\users\\sweth\\anaconda3\\lib\\site-packages (from aiohttp->twint) (1.3.3)\n",
      "Requirement already satisfied: asynctest==0.13.0; python_version < \"3.8\" in c:\\users\\sweth\\anaconda3\\lib\\site-packages (from aiohttp->twint) (0.13.0)\n",
      "Requirement already satisfied: yarl<2.0,>=1.0 in c:\\users\\sweth\\anaconda3\\lib\\site-packages (from aiohttp->twint) (1.9.4)\n",
      "Requirement already satisfied: async-timeout<5.0,>=4.0.0a3 in c:\\users\\sweth\\anaconda3\\lib\\site-packages (from aiohttp->twint) (4.0.3)\n",
      "Requirement already satisfied: aiosignal>=1.1.2 in c:\\users\\sweth\\anaconda3\\lib\\site-packages (from aiohttp->twint) (1.3.1)\n",
      "Requirement already satisfied: typing-extensions>=3.7.4; python_version < \"3.8\" in c:\\users\\sweth\\anaconda3\\lib\\site-packages (from aiohttp->twint) (4.7.1)\n",
      "Requirement already satisfied: multidict<7.0,>=4.5 in c:\\users\\sweth\\anaconda3\\lib\\site-packages (from aiohttp->twint) (6.0.5)\n",
      "Requirement already satisfied: attrs>=17.3.0 in c:\\users\\sweth\\anaconda3\\lib\\site-packages (from aiohttp->twint) (19.3.0)\n",
      "Requirement already satisfied: python-dateutil>=2.6.1 in c:\\users\\sweth\\anaconda3\\lib\\site-packages (from pandas->twint) (2.8.1)\n",
      "Requirement already satisfied: pytz>=2017.2 in c:\\users\\sweth\\anaconda3\\lib\\site-packages (from pandas->twint) (2019.3)\n",
      "Requirement already satisfied: numpy>=1.13.3 in c:\\users\\sweth\\anaconda3\\lib\\site-packages (from pandas->twint) (1.18.1)\n",
      "Requirement already satisfied: certifi in c:\\users\\sweth\\anaconda3\\lib\\site-packages (from elastic-transport<9,>=8->elasticsearch->twint) (2019.11.28)\n",
      "Requirement already satisfied: urllib3<3,>=1.26.2 in c:\\users\\sweth\\anaconda3\\lib\\site-packages (from elastic-transport<9,>=8->elasticsearch->twint) (2.0.7)\n",
      "Requirement already satisfied: idna<4,>=2.5 in c:\\users\\sweth\\anaconda3\\lib\\site-packages (from requests->googletransx->twint) (2.8)\n",
      "Requirement already satisfied: cffi>=1.5.0 in c:\\users\\sweth\\anaconda3\\lib\\site-packages (from pycares>=4.0.0->aiodns->twint) (1.14.0)\n",
      "Requirement already satisfied: zipp>=3.1.0; python_version < \"3.10\" in c:\\users\\sweth\\anaconda3\\lib\\site-packages (from importlib-resources>=5.0; python_version < \"3.10\"->fake-useragent->twint) (3.15.0)\n",
      "Requirement already satisfied: six>=1.5 in c:\\users\\sweth\\anaconda3\\lib\\site-packages (from python-dateutil>=2.6.1->pandas->twint) (1.14.0)\n",
      "Requirement already satisfied: pycparser in c:\\users\\sweth\\anaconda3\\lib\\site-packages (from cffi>=1.5.0->pycares>=4.0.0->aiodns->twint) (2.19)\n",
      "Note: you may need to restart the kernel to use updated packages.\n"
     ]
    }
   ],
   "source": [
    "pip install twint"
   ]
  },
  {
   "cell_type": "code",
   "execution_count": 1,
   "metadata": {},
   "outputs": [
    {
     "name": "stdout",
     "output_type": "stream",
     "text": [
      "Fetching Tweets\n"
     ]
    },
    {
     "ename": "RuntimeError",
     "evalue": "This event loop is already running",
     "output_type": "error",
     "traceback": [
      "\u001b[1;31m---------------------------------------------------------------------------\u001b[0m",
      "\u001b[1;31mRuntimeError\u001b[0m                              Traceback (most recent call last)",
      "\u001b[1;32m<ipython-input-1-bebe2a28b3cf>\u001b[0m in \u001b[0;36m<module>\u001b[1;34m\u001b[0m\n\u001b[0;32m     26\u001b[0m \u001b[1;31m# run once when you start the program\u001b[0m\u001b[1;33m\u001b[0m\u001b[1;33m\u001b[0m\u001b[1;33m\u001b[0m\u001b[0m\n\u001b[0;32m     27\u001b[0m \u001b[1;33m\u001b[0m\u001b[0m\n\u001b[1;32m---> 28\u001b[1;33m \u001b[0mjobone\u001b[0m\u001b[1;33m(\u001b[0m\u001b[1;33m)\u001b[0m\u001b[1;33m\u001b[0m\u001b[1;33m\u001b[0m\u001b[0m\n\u001b[0m\u001b[0;32m     29\u001b[0m \u001b[1;33m\u001b[0m\u001b[0m\n\u001b[0;32m     30\u001b[0m \u001b[1;33m\u001b[0m\u001b[0m\n",
      "\u001b[1;32m<ipython-input-1-bebe2a28b3cf>\u001b[0m in \u001b[0;36mjobone\u001b[1;34m()\u001b[0m\n\u001b[0;32m     21\u001b[0m         \u001b[1;31m# change the name of the csv file\u001b[0m\u001b[1;33m\u001b[0m\u001b[1;33m\u001b[0m\u001b[1;33m\u001b[0m\u001b[0m\n\u001b[0;32m     22\u001b[0m         \u001b[0mc\u001b[0m\u001b[1;33m.\u001b[0m\u001b[0mOutput\u001b[0m \u001b[1;33m=\u001b[0m \u001b[1;34m\"filename.csv\"\u001b[0m\u001b[1;33m\u001b[0m\u001b[1;33m\u001b[0m\u001b[0m\n\u001b[1;32m---> 23\u001b[1;33m         \u001b[0mtwint\u001b[0m\u001b[1;33m.\u001b[0m\u001b[0mrun\u001b[0m\u001b[1;33m.\u001b[0m\u001b[0mSearch\u001b[0m\u001b[1;33m(\u001b[0m\u001b[0mc\u001b[0m\u001b[1;33m)\u001b[0m\u001b[1;33m\u001b[0m\u001b[1;33m\u001b[0m\u001b[0m\n\u001b[0m\u001b[0;32m     24\u001b[0m \u001b[1;33m\u001b[0m\u001b[0m\n\u001b[0;32m     25\u001b[0m \u001b[1;33m\u001b[0m\u001b[0m\n",
      "\u001b[1;32m~\\anaconda3\\lib\\site-packages\\twint\\run.py\u001b[0m in \u001b[0;36mSearch\u001b[1;34m(config, callback)\u001b[0m\n\u001b[0;32m    325\u001b[0m     \u001b[0mconfig\u001b[0m\u001b[1;33m.\u001b[0m\u001b[0mProfile\u001b[0m \u001b[1;33m=\u001b[0m \u001b[1;32mFalse\u001b[0m\u001b[1;33m\u001b[0m\u001b[1;33m\u001b[0m\u001b[0m\n\u001b[0;32m    326\u001b[0m     \u001b[0mconfig\u001b[0m\u001b[1;33m.\u001b[0m\u001b[0mProfile_full\u001b[0m \u001b[1;33m=\u001b[0m \u001b[1;32mFalse\u001b[0m\u001b[1;33m\u001b[0m\u001b[1;33m\u001b[0m\u001b[0m\n\u001b[1;32m--> 327\u001b[1;33m     \u001b[0mrun\u001b[0m\u001b[1;33m(\u001b[0m\u001b[0mconfig\u001b[0m\u001b[1;33m,\u001b[0m \u001b[0mcallback\u001b[0m\u001b[1;33m)\u001b[0m\u001b[1;33m\u001b[0m\u001b[1;33m\u001b[0m\u001b[0m\n\u001b[0m\u001b[0;32m    328\u001b[0m     \u001b[1;32mif\u001b[0m \u001b[0mconfig\u001b[0m\u001b[1;33m.\u001b[0m\u001b[0mPandas_au\u001b[0m\u001b[1;33m:\u001b[0m\u001b[1;33m\u001b[0m\u001b[1;33m\u001b[0m\u001b[0m\n\u001b[0;32m    329\u001b[0m         \u001b[0mstorage\u001b[0m\u001b[1;33m.\u001b[0m\u001b[0mpanda\u001b[0m\u001b[1;33m.\u001b[0m\u001b[0m_autoget\u001b[0m\u001b[1;33m(\u001b[0m\u001b[1;34m\"tweet\"\u001b[0m\u001b[1;33m)\u001b[0m\u001b[1;33m\u001b[0m\u001b[1;33m\u001b[0m\u001b[0m\n",
      "\u001b[1;32m~\\anaconda3\\lib\\site-packages\\twint\\run.py\u001b[0m in \u001b[0;36mrun\u001b[1;34m(config, callback)\u001b[0m\n\u001b[0;32m    224\u001b[0m         \u001b[1;32mraise\u001b[0m\u001b[1;33m\u001b[0m\u001b[1;33m\u001b[0m\u001b[0m\n\u001b[0;32m    225\u001b[0m \u001b[1;33m\u001b[0m\u001b[0m\n\u001b[1;32m--> 226\u001b[1;33m     \u001b[0mget_event_loop\u001b[0m\u001b[1;33m(\u001b[0m\u001b[1;33m)\u001b[0m\u001b[1;33m.\u001b[0m\u001b[0mrun_until_complete\u001b[0m\u001b[1;33m(\u001b[0m\u001b[0mTwint\u001b[0m\u001b[1;33m(\u001b[0m\u001b[0mconfig\u001b[0m\u001b[1;33m)\u001b[0m\u001b[1;33m.\u001b[0m\u001b[0mmain\u001b[0m\u001b[1;33m(\u001b[0m\u001b[0mcallback\u001b[0m\u001b[1;33m)\u001b[0m\u001b[1;33m)\u001b[0m\u001b[1;33m\u001b[0m\u001b[1;33m\u001b[0m\u001b[0m\n\u001b[0m\u001b[0;32m    227\u001b[0m \u001b[1;33m\u001b[0m\u001b[0m\n\u001b[0;32m    228\u001b[0m \u001b[1;32mdef\u001b[0m \u001b[0mFavorites\u001b[0m\u001b[1;33m(\u001b[0m\u001b[0mconfig\u001b[0m\u001b[1;33m)\u001b[0m\u001b[1;33m:\u001b[0m\u001b[1;33m\u001b[0m\u001b[1;33m\u001b[0m\u001b[0m\n",
      "\u001b[1;32m~\\anaconda3\\lib\\asyncio\\base_events.py\u001b[0m in \u001b[0;36mrun_until_complete\u001b[1;34m(self, future)\u001b[0m\n\u001b[0;32m    568\u001b[0m         \u001b[0mfuture\u001b[0m\u001b[1;33m.\u001b[0m\u001b[0madd_done_callback\u001b[0m\u001b[1;33m(\u001b[0m\u001b[0m_run_until_complete_cb\u001b[0m\u001b[1;33m)\u001b[0m\u001b[1;33m\u001b[0m\u001b[1;33m\u001b[0m\u001b[0m\n\u001b[0;32m    569\u001b[0m         \u001b[1;32mtry\u001b[0m\u001b[1;33m:\u001b[0m\u001b[1;33m\u001b[0m\u001b[1;33m\u001b[0m\u001b[0m\n\u001b[1;32m--> 570\u001b[1;33m             \u001b[0mself\u001b[0m\u001b[1;33m.\u001b[0m\u001b[0mrun_forever\u001b[0m\u001b[1;33m(\u001b[0m\u001b[1;33m)\u001b[0m\u001b[1;33m\u001b[0m\u001b[1;33m\u001b[0m\u001b[0m\n\u001b[0m\u001b[0;32m    571\u001b[0m         \u001b[1;32mexcept\u001b[0m\u001b[1;33m:\u001b[0m\u001b[1;33m\u001b[0m\u001b[1;33m\u001b[0m\u001b[0m\n\u001b[0;32m    572\u001b[0m             \u001b[1;32mif\u001b[0m \u001b[0mnew_task\u001b[0m \u001b[1;32mand\u001b[0m \u001b[0mfuture\u001b[0m\u001b[1;33m.\u001b[0m\u001b[0mdone\u001b[0m\u001b[1;33m(\u001b[0m\u001b[1;33m)\u001b[0m \u001b[1;32mand\u001b[0m \u001b[1;32mnot\u001b[0m \u001b[0mfuture\u001b[0m\u001b[1;33m.\u001b[0m\u001b[0mcancelled\u001b[0m\u001b[1;33m(\u001b[0m\u001b[1;33m)\u001b[0m\u001b[1;33m:\u001b[0m\u001b[1;33m\u001b[0m\u001b[1;33m\u001b[0m\u001b[0m\n",
      "\u001b[1;32m~\\anaconda3\\lib\\asyncio\\base_events.py\u001b[0m in \u001b[0;36mrun_forever\u001b[1;34m(self)\u001b[0m\n\u001b[0;32m    523\u001b[0m         \u001b[0mself\u001b[0m\u001b[1;33m.\u001b[0m\u001b[0m_check_closed\u001b[0m\u001b[1;33m(\u001b[0m\u001b[1;33m)\u001b[0m\u001b[1;33m\u001b[0m\u001b[1;33m\u001b[0m\u001b[0m\n\u001b[0;32m    524\u001b[0m         \u001b[1;32mif\u001b[0m \u001b[0mself\u001b[0m\u001b[1;33m.\u001b[0m\u001b[0mis_running\u001b[0m\u001b[1;33m(\u001b[0m\u001b[1;33m)\u001b[0m\u001b[1;33m:\u001b[0m\u001b[1;33m\u001b[0m\u001b[1;33m\u001b[0m\u001b[0m\n\u001b[1;32m--> 525\u001b[1;33m             \u001b[1;32mraise\u001b[0m \u001b[0mRuntimeError\u001b[0m\u001b[1;33m(\u001b[0m\u001b[1;34m'This event loop is already running'\u001b[0m\u001b[1;33m)\u001b[0m\u001b[1;33m\u001b[0m\u001b[1;33m\u001b[0m\u001b[0m\n\u001b[0m\u001b[0;32m    526\u001b[0m         \u001b[1;32mif\u001b[0m \u001b[0mevents\u001b[0m\u001b[1;33m.\u001b[0m\u001b[0m_get_running_loop\u001b[0m\u001b[1;33m(\u001b[0m\u001b[1;33m)\u001b[0m \u001b[1;32mis\u001b[0m \u001b[1;32mnot\u001b[0m \u001b[1;32mNone\u001b[0m\u001b[1;33m:\u001b[0m\u001b[1;33m\u001b[0m\u001b[1;33m\u001b[0m\u001b[0m\n\u001b[0;32m    527\u001b[0m             raise RuntimeError(\n",
      "\u001b[1;31mRuntimeError\u001b[0m: This event loop is already running"
     ]
    },
    {
     "name": "stderr",
     "output_type": "stream",
     "text": [
      "CRITICAL:root:twint.get:User:'NoneType' object is not subscriptable\n",
      "CRITICAL:root:twint.run:Twint:Feed:noDataExpecting value: line 1 column 1 (char 0)\n",
      "sleeping for 1.0 secs\n",
      "CRITICAL:root:twint.run:Twint:Feed:noDataExpecting value: line 1 column 1 (char 0)\n",
      "sleeping for 8.0 secs\n",
      "CRITICAL:root:twint.run:Twint:Feed:noDataExpecting value: line 1 column 1 (char 0)\n",
      "sleeping for 27.0 secs\n",
      "CRITICAL:root:twint.run:Twint:Feed:noDataExpecting value: line 1 column 1 (char 0)\n",
      "sleeping for 64.0 secs\n"
     ]
    }
   ],
   "source": [
    "import twint\n",
    "import schedule\n",
    "import time\n",
    "\n",
    "# you can change the name of each \"job\" after \"def\" if you'd like.\n",
    "def jobone():\n",
    "\tprint (\"Fetching Tweets\")\n",
    "\tc = twint.Config()\n",
    "\t# choose username (optional)\n",
    "\tc.Username = \"AvantiWestCoast\"\n",
    "\t# choose search term (optional)\n",
    "\tc.Search = \"Train\"\n",
    "\t# choose beginning time (narrow results)\n",
    "\tc.Since = \"2022-01-01\"\n",
    "\t# set limit on total tweets\n",
    "\tc.Limit = 1000\n",
    "\t# no idea, but makes the csv format properly\n",
    "\tc.Store_csv = True\n",
    "\t# format of the csv\n",
    "\tc.Custom = [\"date\", \"time\", \"username\", \"tweet\", \"link\", \"likes\", \"retweets\", \"replies\", \"mentions\", \"hashtags\"]\n",
    "\t# change the name of the csv file\n",
    "\tc.Output = \"filename.csv\"\n",
    "\ttwint.run.Search(c)\n",
    "\n",
    "\n",
    "# run once when you start the program\n",
    "\n",
    "jobone()\n",
    "\n",
    "\n",
    "# run every minute(s), hour, day at, day of the week, day of the week and time. Use \"#\" to block out which ones you don't want to use.  Remove it to active. Also, replace \"jobone\" and \"jobtwo\" with your new function names (if applicable)\n",
    "\n",
    "# schedule.every(1).minutes.do(jobone)\n",
    "schedule.every().hour.do(jobone)\n",
    "# schedule.every().day.at(\"10:30\").do(jobone)\n",
    "# schedule.every().monday.do(jobone)\n",
    "# schedule.every().wednesday.at(\"13:15\").do(jobone)\n",
    "\n",
    "# schedule.every(1).minutes.do(jobtwo)\n",
    "schedule.every().hour.do(jobtwo)\n",
    "# schedule.every().day.at(\"10:30\").do(jobtwo)\n",
    "# schedule.every().monday.do(jobtwo)\n",
    "# schedule.every().wednesday.at(\"13:15\").do(jobtwo)\n",
    "\n",
    "while True:\n",
    "  schedule.run_pending()\n",
    "  time.sleep(1)"
   ]
  },
  {
   "cell_type": "code",
   "execution_count": 3,
   "metadata": {},
   "outputs": [
    {
     "ename": "RuntimeError",
     "evalue": "This event loop is already running",
     "output_type": "error",
     "traceback": [
      "\u001b[1;31m---------------------------------------------------------------------------\u001b[0m",
      "\u001b[1;31mRuntimeError\u001b[0m                              Traceback (most recent call last)",
      "\u001b[1;32m<ipython-input-3-013b807040e1>\u001b[0m in \u001b[0;36m<module>\u001b[1;34m\u001b[0m\n\u001b[0;32m      2\u001b[0m \u001b[0mt\u001b[0m\u001b[1;33m=\u001b[0m\u001b[0mtwint\u001b[0m\u001b[1;33m.\u001b[0m\u001b[0mConfig\u001b[0m\u001b[1;33m(\u001b[0m\u001b[1;33m)\u001b[0m\u001b[1;33m\u001b[0m\u001b[1;33m\u001b[0m\u001b[0m\n\u001b[0;32m      3\u001b[0m \u001b[0mt\u001b[0m\u001b[1;33m.\u001b[0m\u001b[0msearch\u001b[0m\u001b[1;33m=\u001b[0m \u001b[1;34m'Pizza'\u001b[0m\u001b[1;33m\u001b[0m\u001b[1;33m\u001b[0m\u001b[0m\n\u001b[1;32m----> 4\u001b[1;33m \u001b[0mtwint\u001b[0m\u001b[1;33m.\u001b[0m\u001b[0mrun\u001b[0m\u001b[1;33m.\u001b[0m\u001b[0mSearch\u001b[0m\u001b[1;33m(\u001b[0m\u001b[0mt\u001b[0m\u001b[1;33m)\u001b[0m\u001b[1;33m\u001b[0m\u001b[1;33m\u001b[0m\u001b[0m\n\u001b[0m",
      "\u001b[1;32m~\\anaconda3\\lib\\site-packages\\twint\\run.py\u001b[0m in \u001b[0;36mSearch\u001b[1;34m(config, callback)\u001b[0m\n\u001b[0;32m    325\u001b[0m     \u001b[0mconfig\u001b[0m\u001b[1;33m.\u001b[0m\u001b[0mProfile\u001b[0m \u001b[1;33m=\u001b[0m \u001b[1;32mFalse\u001b[0m\u001b[1;33m\u001b[0m\u001b[1;33m\u001b[0m\u001b[0m\n\u001b[0;32m    326\u001b[0m     \u001b[0mconfig\u001b[0m\u001b[1;33m.\u001b[0m\u001b[0mProfile_full\u001b[0m \u001b[1;33m=\u001b[0m \u001b[1;32mFalse\u001b[0m\u001b[1;33m\u001b[0m\u001b[1;33m\u001b[0m\u001b[0m\n\u001b[1;32m--> 327\u001b[1;33m     \u001b[0mrun\u001b[0m\u001b[1;33m(\u001b[0m\u001b[0mconfig\u001b[0m\u001b[1;33m,\u001b[0m \u001b[0mcallback\u001b[0m\u001b[1;33m)\u001b[0m\u001b[1;33m\u001b[0m\u001b[1;33m\u001b[0m\u001b[0m\n\u001b[0m\u001b[0;32m    328\u001b[0m     \u001b[1;32mif\u001b[0m \u001b[0mconfig\u001b[0m\u001b[1;33m.\u001b[0m\u001b[0mPandas_au\u001b[0m\u001b[1;33m:\u001b[0m\u001b[1;33m\u001b[0m\u001b[1;33m\u001b[0m\u001b[0m\n\u001b[0;32m    329\u001b[0m         \u001b[0mstorage\u001b[0m\u001b[1;33m.\u001b[0m\u001b[0mpanda\u001b[0m\u001b[1;33m.\u001b[0m\u001b[0m_autoget\u001b[0m\u001b[1;33m(\u001b[0m\u001b[1;34m\"tweet\"\u001b[0m\u001b[1;33m)\u001b[0m\u001b[1;33m\u001b[0m\u001b[1;33m\u001b[0m\u001b[0m\n",
      "\u001b[1;32m~\\anaconda3\\lib\\site-packages\\twint\\run.py\u001b[0m in \u001b[0;36mrun\u001b[1;34m(config, callback)\u001b[0m\n\u001b[0;32m    224\u001b[0m         \u001b[1;32mraise\u001b[0m\u001b[1;33m\u001b[0m\u001b[1;33m\u001b[0m\u001b[0m\n\u001b[0;32m    225\u001b[0m \u001b[1;33m\u001b[0m\u001b[0m\n\u001b[1;32m--> 226\u001b[1;33m     \u001b[0mget_event_loop\u001b[0m\u001b[1;33m(\u001b[0m\u001b[1;33m)\u001b[0m\u001b[1;33m.\u001b[0m\u001b[0mrun_until_complete\u001b[0m\u001b[1;33m(\u001b[0m\u001b[0mTwint\u001b[0m\u001b[1;33m(\u001b[0m\u001b[0mconfig\u001b[0m\u001b[1;33m)\u001b[0m\u001b[1;33m.\u001b[0m\u001b[0mmain\u001b[0m\u001b[1;33m(\u001b[0m\u001b[0mcallback\u001b[0m\u001b[1;33m)\u001b[0m\u001b[1;33m)\u001b[0m\u001b[1;33m\u001b[0m\u001b[1;33m\u001b[0m\u001b[0m\n\u001b[0m\u001b[0;32m    227\u001b[0m \u001b[1;33m\u001b[0m\u001b[0m\n\u001b[0;32m    228\u001b[0m \u001b[1;32mdef\u001b[0m \u001b[0mFavorites\u001b[0m\u001b[1;33m(\u001b[0m\u001b[0mconfig\u001b[0m\u001b[1;33m)\u001b[0m\u001b[1;33m:\u001b[0m\u001b[1;33m\u001b[0m\u001b[1;33m\u001b[0m\u001b[0m\n",
      "\u001b[1;32m~\\anaconda3\\lib\\asyncio\\base_events.py\u001b[0m in \u001b[0;36mrun_until_complete\u001b[1;34m(self, future)\u001b[0m\n\u001b[0;32m    568\u001b[0m         \u001b[0mfuture\u001b[0m\u001b[1;33m.\u001b[0m\u001b[0madd_done_callback\u001b[0m\u001b[1;33m(\u001b[0m\u001b[0m_run_until_complete_cb\u001b[0m\u001b[1;33m)\u001b[0m\u001b[1;33m\u001b[0m\u001b[1;33m\u001b[0m\u001b[0m\n\u001b[0;32m    569\u001b[0m         \u001b[1;32mtry\u001b[0m\u001b[1;33m:\u001b[0m\u001b[1;33m\u001b[0m\u001b[1;33m\u001b[0m\u001b[0m\n\u001b[1;32m--> 570\u001b[1;33m             \u001b[0mself\u001b[0m\u001b[1;33m.\u001b[0m\u001b[0mrun_forever\u001b[0m\u001b[1;33m(\u001b[0m\u001b[1;33m)\u001b[0m\u001b[1;33m\u001b[0m\u001b[1;33m\u001b[0m\u001b[0m\n\u001b[0m\u001b[0;32m    571\u001b[0m         \u001b[1;32mexcept\u001b[0m\u001b[1;33m:\u001b[0m\u001b[1;33m\u001b[0m\u001b[1;33m\u001b[0m\u001b[0m\n\u001b[0;32m    572\u001b[0m             \u001b[1;32mif\u001b[0m \u001b[0mnew_task\u001b[0m \u001b[1;32mand\u001b[0m \u001b[0mfuture\u001b[0m\u001b[1;33m.\u001b[0m\u001b[0mdone\u001b[0m\u001b[1;33m(\u001b[0m\u001b[1;33m)\u001b[0m \u001b[1;32mand\u001b[0m \u001b[1;32mnot\u001b[0m \u001b[0mfuture\u001b[0m\u001b[1;33m.\u001b[0m\u001b[0mcancelled\u001b[0m\u001b[1;33m(\u001b[0m\u001b[1;33m)\u001b[0m\u001b[1;33m:\u001b[0m\u001b[1;33m\u001b[0m\u001b[1;33m\u001b[0m\u001b[0m\n",
      "\u001b[1;32m~\\anaconda3\\lib\\asyncio\\base_events.py\u001b[0m in \u001b[0;36mrun_forever\u001b[1;34m(self)\u001b[0m\n\u001b[0;32m    523\u001b[0m         \u001b[0mself\u001b[0m\u001b[1;33m.\u001b[0m\u001b[0m_check_closed\u001b[0m\u001b[1;33m(\u001b[0m\u001b[1;33m)\u001b[0m\u001b[1;33m\u001b[0m\u001b[1;33m\u001b[0m\u001b[0m\n\u001b[0;32m    524\u001b[0m         \u001b[1;32mif\u001b[0m \u001b[0mself\u001b[0m\u001b[1;33m.\u001b[0m\u001b[0mis_running\u001b[0m\u001b[1;33m(\u001b[0m\u001b[1;33m)\u001b[0m\u001b[1;33m:\u001b[0m\u001b[1;33m\u001b[0m\u001b[1;33m\u001b[0m\u001b[0m\n\u001b[1;32m--> 525\u001b[1;33m             \u001b[1;32mraise\u001b[0m \u001b[0mRuntimeError\u001b[0m\u001b[1;33m(\u001b[0m\u001b[1;34m'This event loop is already running'\u001b[0m\u001b[1;33m)\u001b[0m\u001b[1;33m\u001b[0m\u001b[1;33m\u001b[0m\u001b[0m\n\u001b[0m\u001b[0;32m    526\u001b[0m         \u001b[1;32mif\u001b[0m \u001b[0mevents\u001b[0m\u001b[1;33m.\u001b[0m\u001b[0m_get_running_loop\u001b[0m\u001b[1;33m(\u001b[0m\u001b[1;33m)\u001b[0m \u001b[1;32mis\u001b[0m \u001b[1;32mnot\u001b[0m \u001b[1;32mNone\u001b[0m\u001b[1;33m:\u001b[0m\u001b[1;33m\u001b[0m\u001b[1;33m\u001b[0m\u001b[0m\n\u001b[0;32m    527\u001b[0m             raise RuntimeError(\n",
      "\u001b[1;31mRuntimeError\u001b[0m: This event loop is already running"
     ]
    },
    {
     "name": "stderr",
     "output_type": "stream",
     "text": [
      "CRITICAL:root:twint.run:Twint:Feed:noDataExpecting value: line 1 column 1 (char 0)\n",
      "sleeping for 1.0 secs\n",
      "CRITICAL:root:twint.run:Twint:Feed:noDataExpecting value: line 1 column 1 (char 0)\n",
      "sleeping for 8.0 secs\n",
      "CRITICAL:root:twint.run:Twint:Feed:noDataExpecting value: line 1 column 1 (char 0)\n",
      "sleeping for 27.0 secs\n"
     ]
    }
   ],
   "source": [
    "import twint\n",
    "t=twint.Config()\n",
    "t.search= 'Pizza'\n",
    "twint.run.Search(t)"
   ]
  },
  {
   "cell_type": "raw",
   "metadata": {},
   "source": []
  }
 ],
 "metadata": {
  "kernelspec": {
   "display_name": "Python 3",
   "language": "python",
   "name": "python3"
  },
  "language_info": {
   "codemirror_mode": {
    "name": "ipython",
    "version": 3
   },
   "file_extension": ".py",
   "mimetype": "text/x-python",
   "name": "python",
   "nbconvert_exporter": "python",
   "pygments_lexer": "ipython3",
   "version": "3.7.6"
  }
 },
 "nbformat": 4,
 "nbformat_minor": 4
}
