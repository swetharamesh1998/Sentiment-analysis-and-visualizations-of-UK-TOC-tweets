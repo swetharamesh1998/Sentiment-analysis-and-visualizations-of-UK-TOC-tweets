{
 "cells": [
  {
   "cell_type": "code",
   "execution_count": 8,
   "id": "324b8e02-1782-4427-ad02-b475a57f00d8",
   "metadata": {},
   "outputs": [
    {
     "data": {
      "text/plain": [
       "Index(['Tweet ID', 'Username', 'Tweet', 'Unnamed: 3', 'Unnamed: 4'], dtype='object')"
      ]
     },
     "execution_count": 8,
     "metadata": {},
     "output_type": "execute_result"
    }
   ],
   "source": [
    "df.columns\n"
   ]
  },
  {
   "cell_type": "code",
   "execution_count": 5,
   "id": "c21a050e-890e-4a2b-ac5e-a8df48219a53",
   "metadata": {
    "tags": []
   },
   "outputs": [
    {
     "name": "stderr",
     "output_type": "stream",
     "text": [
      "[nltk_data] Downloading package stopwords to\n",
      "[nltk_data]     C:\\Users\\sweth\\AppData\\Roaming\\nltk_data...\n",
      "[nltk_data]   Package stopwords is already up-to-date!\n"
     ]
    },
    {
     "name": "stdout",
     "output_type": "stream",
     "text": [
      "                  Tweet ID           Username  \\\n",
      "0      1752234802621600000     innisfree1962    \n",
      "1      1751880650758429952    TransportForWM    \n",
      "2      1751867869720140032   CllrTimHuxtable    \n",
      "3      1751258888144329984    TransportForWM    \n",
      "4      1751744628653530112    MichaelBev2000    \n",
      "...                    ...                ...   \n",
      "27777   943749472982589440      donaldorossi    \n",
      "27778   943749368083075072    ShereenCassidy    \n",
      "27779   943748842696126465      charttopper1    \n",
      "27780   943748635367563264           Dwarfio    \n",
      "27781   943748484007677952    CrossCountryUK    \n",
      "\n",
      "                                                   Tweet  \n",
      "0      @westmidrailway @andy4wm @wmrailexecutive @tra...  \n",
      "1      @bigsprouttalent hi simon kings norton rail st...  \n",
      "2      aslef industrial action affecting @westmidrail...  \n",
      "3      aslef industrial action announced end january ...  \n",
      "4      diamond west midlands @diamondbuses wright str...  \n",
      "...                                                  ...  \n",
      "27777  @crosscountryuk think love guys cant wait see ...  \n",
      "27778  @crosscountryuk dont tickets went barriers boo...  \n",
      "27779          @crosscountryuk new times trains saturday  \n",
      "27780  news @_arrowsolutions teams bombardier deliver...  \n",
      "27781  @30tabbie services today running normal yes so...  \n",
      "\n",
      "[27782 rows x 3 columns]\n"
     ]
    }
   ],
   "source": [
    "import re\n",
    "import pandas as pd\n",
    "import nltk\n",
    "from nltk.corpus import stopwords\n",
    "\n",
    "nltk.download('stopwords')\n",
    "stop_words = set(stopwords.words('english'))\n",
    "tweets_file = 'tweets main.xlsx'\n",
    "df = pd.read_excel(tweets_file)\n",
    "\n",
    "def clean_tweet(tweet):\n",
    "    # Remove URLs\n",
    "    tweet = re.sub(r\"http\\S+|www\\S+|pic.twitter.com\\S+\", \"\", tweet)\n",
    "    # Remove hashtags\n",
    "    tweet = re.sub(r'#\\w+', '', tweet)\n",
    "    # Remove emoticons\n",
    "    tweet = re.sub(r'[\\U0001F600-\\U0001F64F\\U0001F300-\\U0001F5FF\\U0001F680-\\U0001F6FF\\U0001F700-\\U0001F77F\\U0001F780-\\U0001F7FF\\U0001F800-\\U0001F8FF\\U0001F900-\\U0001F9FF\\U0001FA00-\\U0001FA6F\\U0001FA70-\\U0001FAFF\\U00002702-\\U000027B0\\U00002639]', '', tweet)\n",
    "    # Remove special characters except '@'\n",
    "    tweet = re.sub(r'[^\\w\\s@]', '', tweet)\n",
    "    # Convert to lowercase\n",
    "    tweet = tweet.lower()\n",
    "    # Remove stopwords\n",
    "    tweet = ' '.join(word for word in tweet.split() if word not in stop_words)\n",
    "    return tweet\n",
    "\n",
    "df['Tweet'] = df['Tweet'].apply(clean_tweet)\n",
    "df.drop(columns=['Unnamed: 3','Unnamed: 4'], inplace=True)\n",
    "print(df)\n",
    "\n",
    "cleaned_tweets_file = 'cleaned_tweets.xlsx'\n",
    "df.to_excel(cleaned_tweets_file, index=False)"
   ]
  },
  {
   "cell_type": "code",
   "execution_count": 2,
   "id": "6f57d035-9264-4a49-8144-346fbae1a9a3",
   "metadata": {},
   "outputs": [
    {
     "name": "stdout",
     "output_type": "stream",
     "text": [
      "                  Tweet ID           Username  \\\n",
      "0      1752234802621600000     innisfree1962    \n",
      "1      1751880650758429952    TransportForWM    \n",
      "2      1751867869720140032   CllrTimHuxtable    \n",
      "3      1751258888144329984    TransportForWM    \n",
      "4      1751744628653530112    MichaelBev2000    \n",
      "...                    ...                ...   \n",
      "27777   943749472982589440      donaldorossi    \n",
      "27778   943749368083075072    ShereenCassidy    \n",
      "27779   943748842696126465      charttopper1    \n",
      "27780   943748635367563264           Dwarfio    \n",
      "27781   943748484007677952    CrossCountryUK    \n",
      "\n",
      "                                                   Tweet  \n",
      "0       @westmidrailway @andy4wm @wmrailexecutive @tr...  \n",
      "1       @bigsprouttalent hi simon,  kings norton rail...  \n",
      "2       ❗aslef industrial action affecting @westmidra...  \n",
      "3       🚆❗aslef industrial action has been announced ...  \n",
      "4       diamond west midlands (@diamondbuses) wright ...  \n",
      "...                                                  ...  \n",
      "27777   @crosscountryuk think i love you guys.... can...  \n",
      "27778   @crosscountryuk i don't have my tickets as th...  \n",
      "27779   @crosscountryuk when you have the new times f...  \n",
      "27780    news: @_arrowsolutions teams up with bombard...  \n",
      "27781   @30tabbie services today are running as norma...  \n",
      "\n",
      "[27782 rows x 3 columns]\n"
     ]
    }
   ],
   "source": [
    "import re\n",
    "import pandas as pd\n",
    "\n",
    "tweets_file = 'tweets main.xlsx'\n",
    "df = pd.read_excel(tweets_file)\n",
    "\n",
    "def clean_tweet(tweet):\n",
    "    # Remove URLs\n",
    "    tweet = re.sub(r\"http\\S+|www\\S+|pic.twitter.com\\S+\", \"\", tweet)\n",
    "    # Remove hashtags\n",
    "    tweet = re.sub(r'#\\w+', '', tweet)\n",
    "    # Remove emoticons\n",
    "    #tweet = re.sub(r'[\\U0001F600-\\U0001F64F\\U0001F300-\\U0001F5FF\\U0001F680-\\U0001F6FF\\U0001F700-\\U0001F77F\\U0001F780-\\U0001F7FF\\U0001F800-\\U0001F8FF\\U0001F900-\\U0001F9FF\\U0001FA00-\\U0001FA6F\\U0001FA70-\\U0001FAFF\\U00002702-\\U000027B0\\U00002639]', '', tweet)\n",
    "    # Remove special characters except '@'\n",
    "    #tweet = re.sub(r'[^\\w\\s]', '', tweet)\n",
    "    # Convert to lowercase\n",
    "    tweet = tweet.lower()\n",
    "    return tweet\n",
    "\n",
    "df['Tweet'] = df['Tweet'].apply(clean_tweet)\n",
    "df.drop(columns=['Unnamed: 3','Unnamed: 4'], inplace=True)\n",
    "print(df)\n",
    "\n",
    "cleaned_tweets_file = 'cleaned_tweets_with emoji.xlsx'\n",
    "df.to_excel(cleaned_tweets_file, index=False)\n"
   ]
  },
  {
   "cell_type": "code",
   "execution_count": 14,
   "id": "0858a42b-ba17-4a96-8056-eaaf6a796be9",
   "metadata": {},
   "outputs": [
    {
     "name": "stdout",
     "output_type": "stream",
     "text": [
      "                  Tweet ID           Username  \\\n",
      "0      1752234802621600000     innisfree1962    \n",
      "1      1751880650758429952    TransportForWM    \n",
      "2      1751867869720140032   CllrTimHuxtable    \n",
      "3      1751258888144329984    TransportForWM    \n",
      "4      1751744628653530112    MichaelBev2000    \n",
      "...                    ...                ...   \n",
      "27777   943749472982589440      donaldorossi    \n",
      "27778   943749368083075072    ShereenCassidy    \n",
      "27779   943748842696126464      charttopper1    \n",
      "27780   943748635367563264           Dwarfio    \n",
      "27781   943748484007677952    CrossCountryUK    \n",
      "\n",
      "                                                   Tweet             TOC  \n",
      "0      @westmidrailway @andy4wm @wmrailexecutive @tra...   west midlands  \n",
      "1      @bigsprouttalent hi simon kings norton rail st...   west midlands  \n",
      "2      aslef industrial action affecting @westmidrail...   west midlands  \n",
      "3      aslef industrial action announced end january ...   west midlands  \n",
      "4      diamond west midlands @diamondbuses wright str...   west midlands  \n",
      "...                                                  ...             ...  \n",
      "27777  @crosscountryuk think love guys cant wait see ...  CrossCountryUK  \n",
      "27778  @crosscountryuk dont tickets went barriers boo...  CrossCountryUK  \n",
      "27779          @crosscountryuk new times trains saturday  CrossCountryUK  \n",
      "27780  news @_arrowsolutions teams bombardier deliver...  CrossCountryUK  \n",
      "27781  @30tabbie services today running normal yes so...  CrossCountryUK  \n",
      "\n",
      "[27782 rows x 4 columns]\n"
     ]
    }
   ],
   "source": [
    "import pandas as pd\n",
    "\n",
    "df = pd.read_excel('cleaned_tweets.xlsx')\n",
    "df['Tweet'] = df['Tweet'].astype(str)\n",
    "tocs = ['tfl', 'scot rail', 'west midlands', 'cross country', 'avanti west coast', 'mersey rail','east midlands']\n",
    "username=['AvantiWestCoast','tfl','ScotRail','WestMidlandRail','CrossCountryUK','merseyrail', 'EastMidRailway']\n",
    "def extract_toc(tweet):\n",
    "    tweet = tweet.lower()\n",
    "    for user in username:\n",
    "        if user.lower() in tweet:\n",
    "            return user\n",
    "    for toc in tocs:\n",
    "        if toc.lower() in tweet:\n",
    "            return toc\n",
    "    if 'emr' in tweet or 'east midlands' in tweet or 'eastmidrailway' in tweet:\n",
    "        return 'east midlands railway'\n",
    "    if 'west midlands' in tweet or 'westmidrailway' in tweet:\n",
    "        return 'west midlands railway'\n",
    "    if 'avantiwestcoast' in tweet or 'avanti west coast' in tweet:\n",
    "        return 'avanti west coast'\n",
    "    if 'scotrail' in tweet or 'scot rail' in tweet:\n",
    "        return 'scot rail'\n",
    "    if 'crosscountryuk' in tweet or 'cross country' in tweet or 'crosscountry' in tweet:\n",
    "        return 'cross country'\n",
    "    if 'merseyrail' in tweet or 'mersey rail' in tweet:\n",
    "        return 'mersey rail'\n",
    "    return None\n",
    "\n",
    "df['TOC'] = df.apply(lambda row: extract_toc(row['Tweet']), axis=1)\n",
    "df['TOC'] = df['TOC'].ffill()\n",
    "print(df)\n",
    "sorted_tweets_file = 'sorted_tweets.xlsx'\n",
    "df.to_excel(sorted_tweets_file, index=False)"
   ]
  },
  {
   "cell_type": "code",
   "execution_count": 16,
   "id": "3c39a4c3-ee45-4eff-971a-8d5e9e32d648",
   "metadata": {},
   "outputs": [
    {
     "name": "stdout",
     "output_type": "stream",
     "text": [
      "<bound method NDFrame.head of                   Tweet ID           Username  \\\n",
      "0      1752234802621600000     innisfree1962    \n",
      "1      1751880650758429952    TransportForWM    \n",
      "2      1751867869720140032   CllrTimHuxtable    \n",
      "3      1751258888144329984    TransportForWM    \n",
      "4      1751744628653530112    MichaelBev2000    \n",
      "...                    ...                ...   \n",
      "27777   943749472982589440      donaldorossi    \n",
      "27778   943749368083075072    ShereenCassidy    \n",
      "27779   943748842696126464      charttopper1    \n",
      "27780   943748635367563264           Dwarfio    \n",
      "27781   943748484007677952    CrossCountryUK    \n",
      "\n",
      "                                                   Tweet             TOC  \n",
      "0      @westmidrailway @andy4wm @wmrailexecutive @tra...   west midlands  \n",
      "1      @bigsprouttalent hi simon kings norton rail st...   west midlands  \n",
      "2      aslef industrial action affecting @westmidrail...   west midlands  \n",
      "3      aslef industrial action announced end january ...   west midlands  \n",
      "4      diamond west midlands @diamondbuses wright str...   west midlands  \n",
      "...                                                  ...             ...  \n",
      "27777  @crosscountryuk think love guys cant wait see ...  CrossCountryUK  \n",
      "27778  @crosscountryuk dont tickets went barriers boo...  CrossCountryUK  \n",
      "27779          @crosscountryuk new times trains saturday  CrossCountryUK  \n",
      "27780  news @_arrowsolutions teams bombardier deliver...  CrossCountryUK  \n",
      "27781  @30tabbie services today running normal yes so...  CrossCountryUK  \n",
      "\n",
      "[27782 rows x 4 columns]>\n"
     ]
    }
   ],
   "source": [
    "import pandas as pd\n",
    "df = pd.read_excel('sorted_tweets.xlsx')\n",
    "df['TOC'] = df['TOC'].ffill()\n",
    "print (df.head)"
   ]
  },
  {
   "cell_type": "code",
   "execution_count": null,
   "id": "87c5a9ec-43c4-430a-bd16-b7dfcb5b2bd6",
   "metadata": {},
   "outputs": [],
   "source": [
    "\n",
    "\n"
   ]
  },
  {
   "cell_type": "code",
   "execution_count": null,
   "id": "84538817-3373-4385-889f-29f5d59379e2",
   "metadata": {},
   "outputs": [],
   "source": []
  }
 ],
 "metadata": {
  "kernelspec": {
   "display_name": "Python 3 (ipykernel)",
   "language": "python",
   "name": "python3"
  },
  "language_info": {
   "codemirror_mode": {
    "name": "ipython",
    "version": 3
   },
   "file_extension": ".py",
   "mimetype": "text/x-python",
   "name": "python",
   "nbconvert_exporter": "python",
   "pygments_lexer": "ipython3",
   "version": "3.11.7"
  }
 },
 "nbformat": 4,
 "nbformat_minor": 5
}
